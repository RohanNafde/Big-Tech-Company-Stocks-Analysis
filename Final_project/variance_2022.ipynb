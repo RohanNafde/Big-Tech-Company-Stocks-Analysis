{
 "cells": [
  {
   "cell_type": "code",
   "execution_count": 1,
   "metadata": {},
   "outputs": [],
   "source": [
    "import math\n",
    "from collections import OrderedDict\n",
    "\n",
    "# data analysis and wrangling\n",
    "import pandas as pd\n",
    "from pandas_datareader import data\n",
    "import numpy as np\n",
    "import random as rnd\n",
    "import datetime\n",
    "\n",
    "# visualization\n",
    "import seaborn as sns\n",
    "import matplotlib.pyplot as plt\n",
    "sns.set_style('whitegrid')\n",
    "%matplotlib inline\n",
    "\n",
    "# plotly\n",
    "import plotly\n",
    "import plotly.graph_objects as go\n",
    "import plotly.express as px\n",
    "from plotly.subplots import make_subplots\n",
    "import plotly.graph_objects as go\n",
    "import cufflinks as cf\n",
    "cf.go_offline()\n",
    "\n",
    "# web scraping\n",
    "import requests\n",
    "import bs4\n",
    "import csv\n",
    "import json \n",
    "import re\n",
    "from io import StringIO"
   ]
  },
  {
   "cell_type": "code",
   "execution_count": 3,
   "metadata": {},
   "outputs": [
    {
     "data": {
      "image/png": "[encoded data removed]",
      "text/plain": [
       "<Figure size 640x480 with 1 Axes>"
      ]
     },
     "metadata": {},
     "output_type": "display_data"
    }
   ],
   "source": [
    "stock_list = ['AAPL','MSFT','TSM','NVDA','CRM','ADBE','INTC','ASML','CSCO','ORCL','QCOM','AVGO','ACN','TXN','SAP','SHOP',\n",
    "'IBM','AMD','NOW','SQ','FIS','INTU','UBER','FISV','AMAT','MU','INFY','LRCX','VMW','ADSK','TEAM','DELL','ADI','WDAY',\n",
    "'NXPI','CTSH','ERIC','DOCU','PLTR','KLAC','APH','TEL','U','MCHP','STM','SNPS','CRWD','SPLK','CDNS','MRVL','OKTA',\n",
    "'HPQ','MSI','PANW','GLW','DDOG','ANSS','WIT','RNG','FTV','PAYC','SWKS','COUP','VRSN','GRMN','KEYS','FLT',\n",
    "'NET','ANET','CAJ','ZBRA','ZS','FTNT','EPAM','CDW','GIB','TER','SSNC','ZI','UMC','BR','HUBS','QRVO','CHKP','AKAM','TYL',\n",
    "'UI','ZEN','CTXS','TRMB','AVLR','STX']\n",
    "# stock_list = ['MSFT', 'AAPL']\n",
    "\n",
    "std = {}\n",
    "\n",
    "for name in stock_list:\n",
    "    # read files\n",
    "    fname = r\"C:\\IIT\\DS203\\Project\\New_Data\\2022 Data\\\\\" + name + \".csv\"\n",
    "    df = pd.read_csv(fname)\n",
    "\n",
    "    # using open price to calculate standard deviation\n",
    "    open_price = df[\"Open\"]\n",
    "    std[name] = math.sqrt(np.var(open_price))\n",
    "\n",
    "    # normalising standard deviation\n",
    "    temp = df.iloc[0,1]\n",
    "    std[name] = std[name]/temp\n",
    " \n",
    "# get hold of names and values of dictionary \n",
    "names = list(std.keys())\n",
    "values = list(std.values())\n",
    "\n",
    "# sort descending to get most volatile companies\n",
    "for i in range(len(values)):\n",
    "    for j in range(0, len(values) - i - 1):\n",
    "      if values[j] < values[j + 1]:\n",
    "        temp = values[j]\n",
    "        values[j] = values[j+1]\n",
    "        values[j+1] = temp\n",
    "        tem = names[j]\n",
    "        names[j] = names[j+1]\n",
    "        names[j+1] = tem\n",
    "\n",
    "# getting hold of top 10\n",
    "top_values = []\n",
    "top_names = []\n",
    "for i in range(10):\n",
    "    top_values.append(values[i])\n",
    "    top_names.append(names[i])\n",
    "\n",
    "# plotting bar\n",
    "plt.bar(range(len(top_values)), top_values, tick_label=top_names)\n",
    "plt.show()\n"
   ]
  }
 ],
 "metadata": {
  "kernelspec": {
   "display_name": "Python 3.10.5 64-bit",
   "language": "python",
   "name": "python3"
  },
  "language_info": {
   "codemirror_mode": {
    "name": "ipython",
    "version": 3
   },
   "file_extension": ".py",
   "mimetype": "text/x-python",
   "name": "python",
   "nbconvert_exporter": "python",
   "pygments_lexer": "ipython3",
   "version": "3.10.5"
  },
  "orig_nbformat": 4,
  "vscode": {
   "interpreter": {
    "hash": "679401eb40aab2456cb85207dc540ace24e71c0bbf92c8a669e0a910a338b22d"
   }
  }
 },
 "nbformat": 4,
 "nbformat_minor": 2
}
